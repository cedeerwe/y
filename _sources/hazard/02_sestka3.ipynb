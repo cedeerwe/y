{
 "cells": [
  {
   "cell_type": "markdown",
   "metadata": {},
   "source": [
    "# Šestka v šiestich III.\n",
    "\n",
    "Potom ako si Ýzy našiel chybu vo výpočtoch, rozhodol sa pozrieť sa na svoj kód. To je často desivá predstava hocikoho, kto napísal ľubovoľný kus kódu. O to desivejšie to je ešte pre tých ako ste vy, ktorí ten kód ani nenapísali. \n",
    "\n",
    "Jeden zo skvelých spôsobov ako hľadať chyby v kóde je napísať si naň základné testy. Najčastejšie je totiž chyba úplne triviálna a základné testy ju odhalia. Pozrime sa napríklad na našu prvú funkciu:"
   ]
  },
  {
   "cell_type": "code",
   "execution_count": 1,
   "metadata": {
    "execution": {
     "iopub.execute_input": "2020-06-22T19:31:56.289245Z",
     "iopub.status.busy": "2020-06-22T19:31:56.288103Z",
     "iopub.status.idle": "2020-06-22T19:31:56.290748Z",
     "shell.execute_reply": "2020-06-22T19:31:56.291768Z"
    }
   },
   "outputs": [],
   "source": [
    "from random import randint # sprístupníme si funkciu na vygenerovanie náhodných celých čísel\n",
    "\n",
    "def hod_kockou(): # zadefinujeme si vlastnú funkciu \"hod_kockou\" \n",
    "    return randint(1, 7) # vygenerujeme celé číslo medzi 1 (vrátane) a 7 (nevrátane)"
   ]
  },
  {
   "cell_type": "markdown",
   "metadata": {},
   "source": [
    "Ýzy sa pozrie na túto funkciu a povie si o nej nejaké základné predpoklady. Napríklad je zjavné, že očakávame od nej iba hodnoty $\\{1,2,3,4,5,6\\}$. Skúste to otestovať sami. Stlačte hore tlačídlo rakety a vyberte možnosť `ThebeLab`, ktorá vám otvorí túto stránku v interaktívnej verzii."
   ]
  },
  {
   "cell_type": "code",
   "execution_count": 2,
   "metadata": {
    "execution": {
     "iopub.execute_input": "2020-06-22T19:31:56.296177Z",
     "iopub.status.busy": "2020-06-22T19:31:56.295410Z",
     "iopub.status.idle": "2020-06-22T19:31:56.298542Z",
     "shell.execute_reply": "2020-06-22T19:31:56.297764Z"
    }
   },
   "outputs": [],
   "source": [
    "# tu otestujte, či naša funkcia vracia iba čísla {1,2,3,4,5,6}. "
   ]
  }
 ],
 "metadata": {
  "jupytext": {
   "text_representation": {
    "format_name": "myst"
   }
  },
  "kernelspec": {
   "display_name": "Python 3",
   "name": "python3"
  },
  "language_info": {
   "codemirror_mode": {
    "name": "ipython",
    "version": 3
   },
   "file_extension": ".py",
   "mimetype": "text/x-python",
   "name": "python",
   "nbconvert_exporter": "python",
   "pygments_lexer": "ipython3",
   "version": "3.6.9"
  },
  "source_map": [
   8,
   16,
   21,
   24
  ]
 },
 "nbformat": 4,
 "nbformat_minor": 4
}