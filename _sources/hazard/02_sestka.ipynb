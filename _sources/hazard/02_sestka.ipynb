{
 "cells": [
  {
   "cell_type": "markdown",
   "metadata": {},
   "source": [
    "# Šestka v šiestich\n",
    "\n",
    "Yzidorovi správne riešenia nikdy nikto nehovoril a výsledky nebývali ani napísané zozadu na hlave babky Ingrid alebo deda Yvana. Keď si malý Ýzy chcel overiť, že či má výsledok správne, musel to tak urobiť sám. Každú úlohu si preto skúsil vyriešiť viacerými nezávislými spôsobmi. Ak mu tieto spôsoby dávali rovnaké / podobné výsledky, bol spokojný. Ak sa líšili, začal si v jednom z prístupov hľadať chybu. Jeho najobľúbenejší prístup (a ten, ktorým vždy začal) bolo *odhadovanie*.\n",
    "\n",
    "## Odhadovanie\n",
    "\n",
    "Malý Ýzy sa zamyslel nad otázkou a skúsil veľmi rýchlo vyprodukovať nejaký rozumný odhad. Povedal si, že šanca na aspoň jednu šestku by sa mala pohybovať v desiatkach percent. Ľubovoľný výsledok menší ako $10\\%$ by ho prekvapil. Odhad je to veľmi hrubý, ale pomôže nám identifikovať očividné chyby v našich ostatných postupoch. Ak by sme niekde zle vykrátili zlomok a dostali by sme výsledok $5\\%$, okamžite by sme zbystrili pozornosť a hľadali si chybu. Tá chyba by mohla byť vo *výpočtoch*, ale aj v *odhade* samotnom. Chyby robíme, je dôležité sa s nimi naučiť pracovať.\n",
    "\n",
    "Po rýchlom odhade zvykne Ýzy pokračovať k simulácii. Za málo práce dostane totiž väčšinou veľmi dobrý výsledok.\n",
    "\n",
    "## Simulácia\n",
    "\n",
    "Na simulovanie používa Ýzy používať programovací jazyk Python. Ak ste v ňom nováčik, silno odporúčame si prečítať prvých pár častí nášho {doc}`úvodu do tohto jazyka </python/01_uvod>`.\n",
    "\n",
    "V prvom rade budeme potrebovať vedieť vygenerovať náhodu, konkrétne pre nás hod kockou. V Pythone to dosiahneme napríklad takto:"
   ]
  },
  {
   "cell_type": "code",
   "execution_count": 1,
   "metadata": {
    "execution": {
     "iopub.execute_input": "2020-06-22T19:25:04.716137Z",
     "iopub.status.busy": "2020-06-22T19:25:04.712726Z",
     "iopub.status.idle": "2020-06-22T19:25:04.722647Z",
     "shell.execute_reply": "2020-06-22T19:25:04.723376Z"
    }
   },
   "outputs": [
    {
     "name": "stdout",
     "output_type": "stream",
     "text": [
      "3\n",
      "7\n",
      "2\n",
      "2\n",
      "5\n",
      "5\n"
     ]
    }
   ],
   "source": [
    "from random import randint # sprístupníme si funkciu na vygenerovanie náhodných celých čísel\n",
    "\n",
    "def hod_kockou(): # zadefinujeme si vlastnú funkciu \"hod_kockou\" \n",
    "    return randint(1, 7) # vygenerujeme celé číslo medzi 1 (vrátane) a 7 (nevrátane)\n",
    "\n",
    "# skúsime si hodiť 6 krát kockou\n",
    "for i in range(6): # zopakuj 6-krát\n",
    "    print(hod_kockou()) # vypíš výsledok hodu kockou"
   ]
  },
  {
   "cell_type": "markdown",
   "metadata": {},
   "source": [
    "Python má výhodu, že sa číslo číta tak ľahko ako angličtina samotná. Komentáre k vyššie napísanému kódu by sme pravdepodobne mohli vynechať a stále by ste rozumeli hlavným myšlienkam. Ýzy sa snaží písať taký kód, ktorý sa ľahko číta. Ak by to tak nebolo, dajte mu vedieť a on s tým skúsi niečo spraviť.\n",
    "\n",
    "Kockou sa nám podarilo hodiť šesťkrát. Nás ale  v skutočnosti zaujíma, či sa v týchto hodoch nachádza aspoň jedna šestka. Na to si napíšeme ďalšiu funkciu"
   ]
  },
  {
   "cell_type": "code",
   "execution_count": 2,
   "metadata": {
    "execution": {
     "iopub.execute_input": "2020-06-22T19:25:04.726392Z",
     "iopub.status.busy": "2020-06-22T19:25:04.725400Z",
     "iopub.status.idle": "2020-06-22T19:25:04.729649Z",
     "shell.execute_reply": "2020-06-22T19:25:04.730337Z"
    }
   },
   "outputs": [],
   "source": [
    "# vrátime buď \"True\" alebo \"False\" podľa toho, či aspoň jeden výsledok zo šiestich bola šestka\n",
    "def sestka_v_siestich_hodoch():\n",
    "    return any(hod_kockou() == 6 for i in range(6))\n"
   ]
  },
  {
   "cell_type": "markdown",
   "metadata": {},
   "source": [
    "Predchádzajúci kód používa mierne pokročilejšie (ale zato odporúčané) spôsoby programovania v Pythone. Ak vám robí ťažkosti, odporúčame si prečítať kapitolu o {doc}`Pythonovských generátoroch </python/02_generatory>`. Následne si pozrieme posledný kus kódu, ktorý spustí prechádzajúcu funkciu obrovský počet krát a povie nám svoj priemerný výsledok."
   ]
  },
  {
   "cell_type": "code",
   "execution_count": 3,
   "metadata": {
    "execution": {
     "iopub.execute_input": "2020-06-22T19:25:04.733315Z",
     "iopub.status.busy": "2020-06-22T19:25:04.732330Z",
     "iopub.status.idle": "2020-06-22T19:25:10.518491Z",
     "shell.execute_reply": "2020-06-22T19:25:10.519236Z"
    }
   },
   "outputs": [
    {
     "data": {
      "text/plain": [
       "0.602958"
      ]
     },
     "execution_count": 3,
     "metadata": {},
     "output_type": "execute_result"
    }
   ],
   "source": [
    "pocet_pokusov = 1000000\n",
    "# využijeme fakt, že \"True\" a \"False\" sa pri sčítavaní správajú ako 1 a 0\n",
    "sum(sestka_v_siestich_hodoch() for i in range(pocet_pokusov)) / pocet_pokusov "
   ]
  },
  {
   "cell_type": "markdown",
   "metadata": {},
   "source": [
    "Toto je naša odsimulovaná šanca na hodenie aspoň jednej šestky zo šiestich pokusov. Sedí s našim širokým odhadom, takže predbežne tento výsledok vyzerá byť vierohodný. Ako posledný spôsob skúsi Ýzy zrátať túto šancu matematicky. Táto cesta je väčšinou najnáročnejšia, ale zato nás v prípade správnych výpočtov odmení úplne presným výsledkom.\n",
    "\n",
    "## Matematika\n",
    "\n",
    "Vypočítať tento príklad nie je zložité, ak ste absolvovali ľubovoľný kurz základnej pravdepodobnosti. Tento príklad by sa totiž kľudne mohol označiť ako *typový*. Ak nezvolíte správnu cestu, môže sa postup javiť pracný, nevyžaduje si ale žiaden náročnejší myšlienkový pochod.\n",
    "\n",
    "Ak chceme vyrátať pravdepodobnosť nejakej udalosti, môžme ju spočítať ako počet možností, ako môže táto udalosť nastať vydelených počtom možností všetkých udalostí. Celá stredoškolská pravdepodobnosť sa dá vyrátať pomocou tohto jednoduchého a intuitívneho postupu. Ak vám nie je úplne jasný, skúste si ho poriadne premyslieť a vyskúšať na rôznych príkladoch (napríklad aj na tomto). Ýzy sa tiež rozhodol použiť tento postup na výpočet jeho úlohy.\n",
    "\n",
    "### Počet všetkých možností\n",
    "\n",
    "Ýzy začal zľahka. Počet všetkých možností je v tomto prípade počet všetkých možných postupností hodov kockou o dĺžke 6. Ýzy si tieto možnosti skúsil zakresliť a dostal takýto rýchlo rastúci strom všetkých možností:"
   ]
  },
  {
   "cell_type": "code",
   "execution_count": 4,
   "metadata": {
    "execution": {
     "iopub.execute_input": "2020-06-22T19:25:10.522099Z",
     "iopub.status.busy": "2020-06-22T19:25:10.521123Z",
     "iopub.status.idle": "2020-06-22T19:25:10.601441Z",
     "shell.execute_reply": "2020-06-22T19:25:10.602168Z"
    },
    "tags": [
     "hide-input"
    ]
   },
   "outputs": [
    {
     "ename": "ExecutableNotFound",
     "evalue": "failed to execute ['dot', '-Tsvg'], make sure the Graphviz executables are on your systems' PATH",
     "output_type": "error",
     "traceback": [
      "\u001b[0;31m---------------------------------------------------------------------------\u001b[0m",
      "\u001b[0;31mFileNotFoundError\u001b[0m                         Traceback (most recent call last)",
      "\u001b[0;32m~/.local/share/virtualenvs/y-ONaAXeAU/lib/python3.6/site-packages/graphviz/backend.py\u001b[0m in \u001b[0;36mrun\u001b[0;34m(cmd, input, capture_output, check, encoding, quiet, **kwargs)\u001b[0m\n\u001b[1;32m    163\u001b[0m     \u001b[0;32mtry\u001b[0m\u001b[0;34m:\u001b[0m\u001b[0;34m\u001b[0m\u001b[0;34m\u001b[0m\u001b[0m\n\u001b[0;32m--> 164\u001b[0;31m         \u001b[0mproc\u001b[0m \u001b[0;34m=\u001b[0m \u001b[0msubprocess\u001b[0m\u001b[0;34m.\u001b[0m\u001b[0mPopen\u001b[0m\u001b[0;34m(\u001b[0m\u001b[0mcmd\u001b[0m\u001b[0;34m,\u001b[0m \u001b[0mstartupinfo\u001b[0m\u001b[0;34m=\u001b[0m\u001b[0mget_startupinfo\u001b[0m\u001b[0;34m(\u001b[0m\u001b[0;34m)\u001b[0m\u001b[0;34m,\u001b[0m \u001b[0;34m**\u001b[0m\u001b[0mkwargs\u001b[0m\u001b[0;34m)\u001b[0m\u001b[0;34m\u001b[0m\u001b[0;34m\u001b[0m\u001b[0m\n\u001b[0m\u001b[1;32m    165\u001b[0m     \u001b[0;32mexcept\u001b[0m \u001b[0mOSError\u001b[0m \u001b[0;32mas\u001b[0m \u001b[0me\u001b[0m\u001b[0;34m:\u001b[0m\u001b[0;34m\u001b[0m\u001b[0;34m\u001b[0m\u001b[0m\n",
      "\u001b[0;32m/usr/lib/python3.6/subprocess.py\u001b[0m in \u001b[0;36m__init__\u001b[0;34m(self, args, bufsize, executable, stdin, stdout, stderr, preexec_fn, close_fds, shell, cwd, env, universal_newlines, startupinfo, creationflags, restore_signals, start_new_session, pass_fds, encoding, errors)\u001b[0m\n\u001b[1;32m    728\u001b[0m                                 \u001b[0merrread\u001b[0m\u001b[0;34m,\u001b[0m \u001b[0merrwrite\u001b[0m\u001b[0;34m,\u001b[0m\u001b[0;34m\u001b[0m\u001b[0;34m\u001b[0m\u001b[0m\n\u001b[0;32m--> 729\u001b[0;31m                                 restore_signals, start_new_session)\n\u001b[0m\u001b[1;32m    730\u001b[0m         \u001b[0;32mexcept\u001b[0m\u001b[0;34m:\u001b[0m\u001b[0;34m\u001b[0m\u001b[0;34m\u001b[0m\u001b[0m\n",
      "\u001b[0;32m/usr/lib/python3.6/subprocess.py\u001b[0m in \u001b[0;36m_execute_child\u001b[0;34m(self, args, executable, preexec_fn, close_fds, pass_fds, cwd, env, startupinfo, creationflags, shell, p2cread, p2cwrite, c2pread, c2pwrite, errread, errwrite, restore_signals, start_new_session)\u001b[0m\n\u001b[1;32m   1363\u001b[0m                             \u001b[0merr_msg\u001b[0m \u001b[0;34m+=\u001b[0m \u001b[0;34m': '\u001b[0m \u001b[0;34m+\u001b[0m \u001b[0mrepr\u001b[0m\u001b[0;34m(\u001b[0m\u001b[0merr_filename\u001b[0m\u001b[0;34m)\u001b[0m\u001b[0;34m\u001b[0m\u001b[0;34m\u001b[0m\u001b[0m\n\u001b[0;32m-> 1364\u001b[0;31m                     \u001b[0;32mraise\u001b[0m \u001b[0mchild_exception_type\u001b[0m\u001b[0;34m(\u001b[0m\u001b[0merrno_num\u001b[0m\u001b[0;34m,\u001b[0m \u001b[0merr_msg\u001b[0m\u001b[0;34m,\u001b[0m \u001b[0merr_filename\u001b[0m\u001b[0;34m)\u001b[0m\u001b[0;34m\u001b[0m\u001b[0;34m\u001b[0m\u001b[0m\n\u001b[0m\u001b[1;32m   1365\u001b[0m                 \u001b[0;32mraise\u001b[0m \u001b[0mchild_exception_type\u001b[0m\u001b[0;34m(\u001b[0m\u001b[0merr_msg\u001b[0m\u001b[0;34m)\u001b[0m\u001b[0;34m\u001b[0m\u001b[0;34m\u001b[0m\u001b[0m\n",
      "\u001b[0;31mFileNotFoundError\u001b[0m: [Errno 2] No such file or directory: 'dot': 'dot'",
      "\nDuring handling of the above exception, another exception occurred:\n",
      "\u001b[0;31mExecutableNotFound\u001b[0m                        Traceback (most recent call last)",
      "\u001b[0;32m~/.local/share/virtualenvs/y-ONaAXeAU/lib/python3.6/site-packages/IPython/core/formatters.py\u001b[0m in \u001b[0;36m__call__\u001b[0;34m(self, obj)\u001b[0m\n\u001b[1;32m    343\u001b[0m             \u001b[0mmethod\u001b[0m \u001b[0;34m=\u001b[0m \u001b[0mget_real_method\u001b[0m\u001b[0;34m(\u001b[0m\u001b[0mobj\u001b[0m\u001b[0;34m,\u001b[0m \u001b[0mself\u001b[0m\u001b[0;34m.\u001b[0m\u001b[0mprint_method\u001b[0m\u001b[0;34m)\u001b[0m\u001b[0;34m\u001b[0m\u001b[0;34m\u001b[0m\u001b[0m\n\u001b[1;32m    344\u001b[0m             \u001b[0;32mif\u001b[0m \u001b[0mmethod\u001b[0m \u001b[0;32mis\u001b[0m \u001b[0;32mnot\u001b[0m \u001b[0;32mNone\u001b[0m\u001b[0;34m:\u001b[0m\u001b[0;34m\u001b[0m\u001b[0;34m\u001b[0m\u001b[0m\n\u001b[0;32m--> 345\u001b[0;31m                 \u001b[0;32mreturn\u001b[0m \u001b[0mmethod\u001b[0m\u001b[0;34m(\u001b[0m\u001b[0;34m)\u001b[0m\u001b[0;34m\u001b[0m\u001b[0;34m\u001b[0m\u001b[0m\n\u001b[0m\u001b[1;32m    346\u001b[0m             \u001b[0;32mreturn\u001b[0m \u001b[0;32mNone\u001b[0m\u001b[0;34m\u001b[0m\u001b[0;34m\u001b[0m\u001b[0m\n\u001b[1;32m    347\u001b[0m         \u001b[0;32melse\u001b[0m\u001b[0;34m:\u001b[0m\u001b[0;34m\u001b[0m\u001b[0;34m\u001b[0m\u001b[0m\n",
      "\u001b[0;32m~/.local/share/virtualenvs/y-ONaAXeAU/lib/python3.6/site-packages/graphviz/files.py\u001b[0m in \u001b[0;36m_repr_svg_\u001b[0;34m(self)\u001b[0m\n\u001b[1;32m    111\u001b[0m \u001b[0;34m\u001b[0m\u001b[0m\n\u001b[1;32m    112\u001b[0m     \u001b[0;32mdef\u001b[0m \u001b[0m_repr_svg_\u001b[0m\u001b[0;34m(\u001b[0m\u001b[0mself\u001b[0m\u001b[0;34m)\u001b[0m\u001b[0;34m:\u001b[0m\u001b[0;34m\u001b[0m\u001b[0;34m\u001b[0m\u001b[0m\n\u001b[0;32m--> 113\u001b[0;31m         \u001b[0;32mreturn\u001b[0m \u001b[0mself\u001b[0m\u001b[0;34m.\u001b[0m\u001b[0mpipe\u001b[0m\u001b[0;34m(\u001b[0m\u001b[0mformat\u001b[0m\u001b[0;34m=\u001b[0m\u001b[0;34m'svg'\u001b[0m\u001b[0;34m)\u001b[0m\u001b[0;34m.\u001b[0m\u001b[0mdecode\u001b[0m\u001b[0;34m(\u001b[0m\u001b[0mself\u001b[0m\u001b[0;34m.\u001b[0m\u001b[0m_encoding\u001b[0m\u001b[0;34m)\u001b[0m\u001b[0;34m\u001b[0m\u001b[0;34m\u001b[0m\u001b[0m\n\u001b[0m\u001b[1;32m    114\u001b[0m \u001b[0;34m\u001b[0m\u001b[0m\n\u001b[1;32m    115\u001b[0m     \u001b[0;32mdef\u001b[0m \u001b[0mpipe\u001b[0m\u001b[0;34m(\u001b[0m\u001b[0mself\u001b[0m\u001b[0;34m,\u001b[0m \u001b[0mformat\u001b[0m\u001b[0;34m=\u001b[0m\u001b[0;32mNone\u001b[0m\u001b[0;34m,\u001b[0m \u001b[0mrenderer\u001b[0m\u001b[0;34m=\u001b[0m\u001b[0;32mNone\u001b[0m\u001b[0;34m,\u001b[0m \u001b[0mformatter\u001b[0m\u001b[0;34m=\u001b[0m\u001b[0;32mNone\u001b[0m\u001b[0;34m,\u001b[0m \u001b[0mquiet\u001b[0m\u001b[0;34m=\u001b[0m\u001b[0;32mFalse\u001b[0m\u001b[0;34m)\u001b[0m\u001b[0;34m:\u001b[0m\u001b[0;34m\u001b[0m\u001b[0;34m\u001b[0m\u001b[0m\n",
      "\u001b[0;32m~/.local/share/virtualenvs/y-ONaAXeAU/lib/python3.6/site-packages/graphviz/files.py\u001b[0m in \u001b[0;36mpipe\u001b[0;34m(self, format, renderer, formatter, quiet)\u001b[0m\n\u001b[1;32m    136\u001b[0m         out = backend.pipe(self._engine, format, data,\n\u001b[1;32m    137\u001b[0m                            \u001b[0mrenderer\u001b[0m\u001b[0;34m=\u001b[0m\u001b[0mrenderer\u001b[0m\u001b[0;34m,\u001b[0m \u001b[0mformatter\u001b[0m\u001b[0;34m=\u001b[0m\u001b[0mformatter\u001b[0m\u001b[0;34m,\u001b[0m\u001b[0;34m\u001b[0m\u001b[0;34m\u001b[0m\u001b[0m\n\u001b[0;32m--> 138\u001b[0;31m                            quiet=quiet)\n\u001b[0m\u001b[1;32m    139\u001b[0m \u001b[0;34m\u001b[0m\u001b[0m\n\u001b[1;32m    140\u001b[0m         \u001b[0;32mreturn\u001b[0m \u001b[0mout\u001b[0m\u001b[0;34m\u001b[0m\u001b[0;34m\u001b[0m\u001b[0m\n",
      "\u001b[0;32m~/.local/share/virtualenvs/y-ONaAXeAU/lib/python3.6/site-packages/graphviz/backend.py\u001b[0m in \u001b[0;36mpipe\u001b[0;34m(engine, format, data, renderer, formatter, quiet)\u001b[0m\n\u001b[1;32m    242\u001b[0m     \"\"\"\n\u001b[1;32m    243\u001b[0m     \u001b[0mcmd\u001b[0m\u001b[0;34m,\u001b[0m \u001b[0m_\u001b[0m \u001b[0;34m=\u001b[0m \u001b[0mcommand\u001b[0m\u001b[0;34m(\u001b[0m\u001b[0mengine\u001b[0m\u001b[0;34m,\u001b[0m \u001b[0mformat\u001b[0m\u001b[0;34m,\u001b[0m \u001b[0;32mNone\u001b[0m\u001b[0;34m,\u001b[0m \u001b[0mrenderer\u001b[0m\u001b[0;34m,\u001b[0m \u001b[0mformatter\u001b[0m\u001b[0;34m)\u001b[0m\u001b[0;34m\u001b[0m\u001b[0;34m\u001b[0m\u001b[0m\n\u001b[0;32m--> 244\u001b[0;31m     \u001b[0mout\u001b[0m\u001b[0;34m,\u001b[0m \u001b[0m_\u001b[0m \u001b[0;34m=\u001b[0m \u001b[0mrun\u001b[0m\u001b[0;34m(\u001b[0m\u001b[0mcmd\u001b[0m\u001b[0;34m,\u001b[0m \u001b[0minput\u001b[0m\u001b[0;34m=\u001b[0m\u001b[0mdata\u001b[0m\u001b[0;34m,\u001b[0m \u001b[0mcapture_output\u001b[0m\u001b[0;34m=\u001b[0m\u001b[0;32mTrue\u001b[0m\u001b[0;34m,\u001b[0m \u001b[0mcheck\u001b[0m\u001b[0;34m=\u001b[0m\u001b[0;32mTrue\u001b[0m\u001b[0;34m,\u001b[0m \u001b[0mquiet\u001b[0m\u001b[0;34m=\u001b[0m\u001b[0mquiet\u001b[0m\u001b[0;34m)\u001b[0m\u001b[0;34m\u001b[0m\u001b[0;34m\u001b[0m\u001b[0m\n\u001b[0m\u001b[1;32m    245\u001b[0m     \u001b[0;32mreturn\u001b[0m \u001b[0mout\u001b[0m\u001b[0;34m\u001b[0m\u001b[0;34m\u001b[0m\u001b[0m\n\u001b[1;32m    246\u001b[0m \u001b[0;34m\u001b[0m\u001b[0m\n",
      "\u001b[0;32m~/.local/share/virtualenvs/y-ONaAXeAU/lib/python3.6/site-packages/graphviz/backend.py\u001b[0m in \u001b[0;36mrun\u001b[0;34m(cmd, input, capture_output, check, encoding, quiet, **kwargs)\u001b[0m\n\u001b[1;32m    165\u001b[0m     \u001b[0;32mexcept\u001b[0m \u001b[0mOSError\u001b[0m \u001b[0;32mas\u001b[0m \u001b[0me\u001b[0m\u001b[0;34m:\u001b[0m\u001b[0;34m\u001b[0m\u001b[0;34m\u001b[0m\u001b[0m\n\u001b[1;32m    166\u001b[0m         \u001b[0;32mif\u001b[0m \u001b[0me\u001b[0m\u001b[0;34m.\u001b[0m\u001b[0merrno\u001b[0m \u001b[0;34m==\u001b[0m \u001b[0merrno\u001b[0m\u001b[0;34m.\u001b[0m\u001b[0mENOENT\u001b[0m\u001b[0;34m:\u001b[0m\u001b[0;34m\u001b[0m\u001b[0;34m\u001b[0m\u001b[0m\n\u001b[0;32m--> 167\u001b[0;31m             \u001b[0;32mraise\u001b[0m \u001b[0mExecutableNotFound\u001b[0m\u001b[0;34m(\u001b[0m\u001b[0mcmd\u001b[0m\u001b[0;34m)\u001b[0m\u001b[0;34m\u001b[0m\u001b[0;34m\u001b[0m\u001b[0m\n\u001b[0m\u001b[1;32m    168\u001b[0m         \u001b[0;32melse\u001b[0m\u001b[0;34m:\u001b[0m\u001b[0;34m\u001b[0m\u001b[0;34m\u001b[0m\u001b[0m\n\u001b[1;32m    169\u001b[0m             \u001b[0;32mraise\u001b[0m\u001b[0;34m\u001b[0m\u001b[0;34m\u001b[0m\u001b[0m\n",
      "\u001b[0;31mExecutableNotFound\u001b[0m: failed to execute ['dot', '-Tsvg'], make sure the Graphviz executables are on your systems' PATH"
     ]
    },
    {
     "data": {
      "text/plain": [
       "<graphviz.dot.Digraph at 0x7f8ec757a0f0>"
      ]
     },
     "execution_count": 4,
     "metadata": {},
     "output_type": "execute_result"
    }
   ],
   "source": [
    "import graphviz\n",
    "\n",
    "d = graphviz.Digraph()\n",
    "d.node(\"_\")\n",
    "for i in range(1,7):\n",
    "    d.edge(\"_\", str(i))\n",
    "    for j in range(1, 7):\n",
    "        d.edge(str(i), str(i) + str(j))\n",
    "d"
   ]
  },
  {
   "cell_type": "markdown",
   "metadata": {},
   "source": [
    "```{margin}\n",
    "Tento graf sme tiež vytvorili pomocou Pythonu. Jeho zdrojový kód si môžte rozkliknúť. Nie je to v skutočnosti nič komplikované.\n",
    "```\n",
    "Pre prehľadnosť si rozpísal iba prvé dva hody, z ktorých už pochopil, ako to bude ďalej pokračovať. Každý ďalší hod pridá k jednému z predchádzajúcich možností ďalších 6 možností a teda výsledný počet možností bude $6^6 = 46\\,656$.\n",
    "\n",
    "### Počet všetkých vyhovujúcich možností\n",
    "\n",
    "Najprv si Ýzy spočítal všetky možnosti, v ktorých je vo výsledku práve jedna šestka. Táto jedna šestka môže byť na šiestich pozíciách. Všetky ostatné hody musia byť odlišné od 6 a teda každé ostatné číslo má iba 5 možností. Ýzy už skúsene vie spojiť tieto dve informácie dokopy, aby získal počet možností $6 \\cdot 5^5 = 18\\,750$. Toto ale nie je konečný výsledok, pretože vyhovujúca možnosť je aj taká, ak sú vo výsledku dve šestky.\n",
    "\n",
    "Ako zrátame počet možností pre práve dve šestky? Tieto dve šestky sa musia nachádzať na niektorých pozíciách a zvyšné čísla budú nutne iné ako 6. Výsledok teda bude tvaru $x \\cdot 5^4$, kde $x$ je počet možností pre umiestnenie dvoch šestiek medzi 6 hodov. Ak máte natrénované pravdepodobnostné vzorčeky, budete hneď vedieť, že je výsledok $6 \\choose 2$. Ýzy ale natrénované vzorčeky nemá a preto si to vždy radšej vymyslí od začiatku. Prvú šestku môžme dať na 6 miest, druhú šestku už len na zvyšných 5 miest. Dokopy máme teda $6 \\cdot 5 = 30$ možností. Niektoré z týchto možností sa ale opakujú, napríklad možnosť, kde prvá šestka bude na prvom mieste, druhá na druhom a možnosť, kde prvá šestka bude na druhom a druhá na prvom mieste. Počet možností, ktoré sme si spočítali, by sme teda radi vydelili počtom možných usporiadaní dvoch šestiek, teda číslom 2. Počet usporiadaní šestiek bude $\\tfrac{6 \\cdot 5}{2} = 15$. Celkový počet možností teda bude $15 \\cdot 5^4 = 9\\,375$.\n",
    "\n",
    "Budeme musieť ale pokračovať, lebo šestiek môže byť ešte aj viac. Nebudeme sa už rozpisovať, lebo myšlienkové pochody sú úplne rovnaké. Výsledky dostaneme ako \n",
    "```{math}\n",
    "\\text{3 šestky}:& \\quad \\tfrac{6 \\cdot 5 \\cdot 4}{3 \\cdot 2} \\cdot 5^3  \\qq{=} 2\\,700,\\\\\n",
    "\\text{4 šestky}:& \\quad \\tfrac{6 \\cdot 5 \\cdot 4 \\cdot 3}{4 \\cdot 3 \\cdot 2} \\cdot 5^2 \\qq{=} 375,\\\\\n",
    "\\text{5 šestiek}:& \\quad \\tfrac{6 \\cdot 5 \\cdot 4 \\cdot 3 \\cdot 2}{5 \\cdot 4 \\cdot 3 \\cdot 2} \\cdot 5  \\qq{=} 30, \\\\\n",
    "\\text{6 šestiek}:& \\quad \\tfrac{6 \\cdot 5 \\cdot 4 \\cdot 3 \\cdot 2 \\cdot 1}{6 \\cdot 5 \\cdot 4 \\cdot 3 \\cdot 2} \\cdot 5^0 \\qq{=} 1. \\\\\n",
    "```\n",
    "Po spočítaní všetkých našich výsledkov dostávame počet všetkých vyhovujúcich možností dostávame ako:\n",
    "```{math}\n",
    "18\\,750 + 9\\,375 + 2\\,700 + 375 + 30 + 1 = 31\\,231.\n",
    "```\n",
    "\n",
    "### Konečný výsledok\n",
    "\n",
    "Fuh, to bola makačka. Chudák Ýzy je z toho celý spotený. Konečný výsledok vyšiel ako \n",
    "```{math}\n",
    "\\frac{31\\,231}{46\\,656} \\approx 0.66494 \n",
    "```\n",
    "Ýzy prehlásil, že tento výsledok síce sedí s odhadom, ale od simulácií je odlišný o zhruba $6\\%$. Keďže sme robili v simulácií až milión pokusov, očakával Ýzy menšiu odchýlku. Celé to zaváňa nejakou chybou. \n",
    "\n",
    "```{admonition} Úloha\n",
    ":class: tip\n",
    "Stala sa chyba? Ak áno, kde? Ak nie, prečo sú výsledky také odlišné?\n",
    "```\n",
    "\n",
    "\n",
    "```{toctree}\n",
    ":hidden:\n",
    ":titlesonly:\n",
    "\n",
    "\n",
    "02_sestka2\n",
    "02_sestka3\n",
    "02_sestka4\n",
    "02_sestka5\n",
    "02_sestka6\n",
    "```"
   ]
  }
 ],
 "metadata": {
  "jupytext": {
   "text_representation": {
    "extension": ".md",
    "format_name": "myst",
    "format_version": "0.8",
    "jupytext_version": "1.4.1"
   }
  },
  "kernelspec": {
   "display_name": "Python 3",
   "language": "python",
   "name": "python3"
  },
  "language_info": {
   "codemirror_mode": {
    "name": "ipython",
    "version": 3
   },
   "file_extension": ".py",
   "mimetype": "text/x-python",
   "name": "python",
   "nbconvert_exporter": "python",
   "pygments_lexer": "ipython3",
   "version": "3.6.9"
  },
  "source_map": [
   12,
   29,
   38,
   42,
   47,
   50,
   54,
   68,
   79
  ]
 },
 "nbformat": 4,
 "nbformat_minor": 4
}