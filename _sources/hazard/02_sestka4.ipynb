{
 "cells": [
  {
   "cell_type": "markdown",
   "metadata": {},
   "source": [
    "# Šestka v šiestich IV.\n",
    "\n",
    "Ýzyho testy vyzerajú takto:"
   ]
  },
  {
   "cell_type": "code",
   "execution_count": 1,
   "metadata": {
    "execution": {
     "iopub.execute_input": "2020-06-28T09:08:54.013671Z",
     "iopub.status.busy": "2020-06-28T09:08:54.013067Z",
     "iopub.status.idle": "2020-06-28T09:08:54.073851Z",
     "shell.execute_reply": "2020-06-28T09:08:54.072282Z"
    },
    "tags": [
     "raises-exception"
    ]
   },
   "outputs": [
    {
     "ename": "AssertionError",
     "evalue": "",
     "output_type": "error",
     "traceback": [
      "\u001b[0;31m---------------------------------------------------------------------------\u001b[0m",
      "\u001b[0;31mAssertionError\u001b[0m                            Traceback (most recent call last)",
      "\u001b[0;32m<ipython-input-1-fd25c7177a48>\u001b[0m in \u001b[0;36m<module>\u001b[0;34m\u001b[0m\n\u001b[1;32m     10\u001b[0m \u001b[0;34m\u001b[0m\u001b[0m\n\u001b[1;32m     11\u001b[0m \u001b[0;31m# spustenie testu\u001b[0m\u001b[0;34m\u001b[0m\u001b[0;34m\u001b[0m\u001b[0;34m\u001b[0m\u001b[0m\n\u001b[0;32m---> 12\u001b[0;31m \u001b[0motestuj_hod_kockou\u001b[0m\u001b[0;34m(\u001b[0m\u001b[0;36m10000\u001b[0m\u001b[0;34m)\u001b[0m\u001b[0;34m\u001b[0m\u001b[0;34m\u001b[0m\u001b[0m\n\u001b[0m",
      "\u001b[0;32m<ipython-input-1-fd25c7177a48>\u001b[0m in \u001b[0;36motestuj_hod_kockou\u001b[0;34m(N)\u001b[0m\n\u001b[1;32m      7\u001b[0m \u001b[0;32mdef\u001b[0m \u001b[0motestuj_hod_kockou\u001b[0m\u001b[0;34m(\u001b[0m\u001b[0mN\u001b[0m\u001b[0;34m)\u001b[0m\u001b[0;34m:\u001b[0m\u001b[0;34m\u001b[0m\u001b[0;34m\u001b[0m\u001b[0m\n\u001b[1;32m      8\u001b[0m     \u001b[0;32mfor\u001b[0m \u001b[0mi\u001b[0m \u001b[0;32min\u001b[0m \u001b[0mrange\u001b[0m\u001b[0;34m(\u001b[0m\u001b[0mN\u001b[0m\u001b[0;34m)\u001b[0m\u001b[0;34m:\u001b[0m\u001b[0;34m\u001b[0m\u001b[0;34m\u001b[0m\u001b[0m\n\u001b[0;32m----> 9\u001b[0;31m         \u001b[0;32massert\u001b[0m\u001b[0;34m(\u001b[0m\u001b[0mhod_kockou\u001b[0m\u001b[0;34m(\u001b[0m\u001b[0;34m)\u001b[0m \u001b[0;32min\u001b[0m \u001b[0;34m[\u001b[0m\u001b[0;36m1\u001b[0m\u001b[0;34m,\u001b[0m\u001b[0;36m2\u001b[0m\u001b[0;34m,\u001b[0m\u001b[0;36m3\u001b[0m\u001b[0;34m,\u001b[0m\u001b[0;36m4\u001b[0m\u001b[0;34m,\u001b[0m\u001b[0;36m5\u001b[0m\u001b[0;34m,\u001b[0m\u001b[0;36m6\u001b[0m\u001b[0;34m]\u001b[0m\u001b[0;34m)\u001b[0m\u001b[0;34m\u001b[0m\u001b[0;34m\u001b[0m\u001b[0m\n\u001b[0m\u001b[1;32m     10\u001b[0m \u001b[0;34m\u001b[0m\u001b[0m\n\u001b[1;32m     11\u001b[0m \u001b[0;31m# spustenie testu\u001b[0m\u001b[0;34m\u001b[0m\u001b[0;34m\u001b[0m\u001b[0;34m\u001b[0m\u001b[0m\n",
      "\u001b[0;31mAssertionError\u001b[0m: "
     ]
    }
   ],
   "source": [
    "from random import randint # sprístupníme si funkciu na vygenerovanie náhodných celých čísel\n",
    "\n",
    "def hod_kockou(): # zadefinujeme si vlastnú funkciu \"hod_kockou\" \n",
    "    return randint(1, 7) # vygenerujeme celé číslo medzi 1 (vrátane) a 7 (nevrátane)\n",
    "\n",
    "# testy\n",
    "def otestuj_hod_kockou(N):\n",
    "    for i in range(N):\n",
    "        assert(hod_kockou() in [1,2,3,4,5,6])\n",
    "\n",
    "# spustenie testu\n",
    "otestuj_hod_kockou(10000)"
   ]
  },
  {
   "cell_type": "markdown",
   "metadata": {},
   "source": [
    "A sme našli našu chybu. Očividne generujeme niečo iné, ako výsledky hodov kockou. Keď sa pozrieme na dokumentáciu funkcie `randint`, zistíme nasledovné."
   ]
  },
  {
   "cell_type": "code",
   "execution_count": 2,
   "metadata": {
    "execution": {
     "iopub.status.busy": "2020-06-28T09:08:54.075872Z",
     "iopub.status.idle": "2020-06-28T09:08:54.076937Z",
     "shell.execute_reply": "2020-06-28T09:08:54.077623Z"
    }
   },
   "outputs": [],
   "source": [
    "help(randint)"
   ]
  },
  {
   "cell_type": "markdown",
   "metadata": {},
   "source": [
    "Takže je to celé jasné. Ýzy spravil chybu v simulácií v tom, že si zle prečítal a vyskúšal dokumentáciu, pretože oba koncové body sú zahrnuté. Opravený Ýzyho kód simulácie teda vyzerá takto:"
   ]
  },
  {
   "cell_type": "code",
   "execution_count": 3,
   "metadata": {
    "execution": {
     "iopub.execute_input": "2020-06-28T09:08:54.182239Z",
     "iopub.status.busy": "2020-06-28T09:08:54.180887Z",
     "iopub.status.idle": "2020-06-28T09:08:59.620339Z",
     "shell.execute_reply": "2020-06-28T09:08:59.621073Z"
    }
   },
   "outputs": [
    {
     "data": {
      "text/plain": [
       "0.664528"
      ]
     },
     "execution_count": 2,
     "metadata": {},
     "output_type": "execute_result"
    }
   ],
   "source": [
    "def hod_kockou_spravne(): \n",
    "    return randint(1, 6) \n",
    "\n",
    "def sestka_v_siestich_hodoch():\n",
    "    return any(hod_kockou_spravne() == 6 for i in range(6))\n",
    "\n",
    "pocet_pokusov = 1000000\n",
    "sum(sestka_v_siestich_hodoch() for i in range(pocet_pokusov)) / pocet_pokusov "
   ]
  },
  {
   "cell_type": "markdown",
   "metadata": {},
   "source": [
    "Tento výsledok sa zhoduje s výsledkom matematických výpočtov. Ýzy teda konečne prišiel spokojný k záveru, že sa mu úlohu podarilo vyriešiť. \n",
    "\n",
    "Samotný výsledok Ýzyho až tak nezaujal. Veď ani pôvodný príklad nebol v skutočnosti až taký zaujímavý. Omnoho zaujimavejší preňho bol proces, ako sa k výsledku dostal. V prvom výsledku mal až dve chyby, ktoré si postupne sám zvládol nájsť tým, že sa snažil k riešeniu dostať rôznymi spôsobmi. Ako hovorieval dedo Yvan: \"*Keby ti vždy musel niekto skontrolovať správnosť tvojich výsledkov, tvoja práca je polo-zbytočná.*\". V duchu tejto filozofie sa odvtedy malý Ýzy vždy vytešoval z toho, keď sa mu podarilo nájsť si vlastnú chybu. Stával sa tým nezávislejším a z pohľadu svojho deda menej zbytočným.\n",
    "\n",
    "```{admonition} Poznámka o chybách\n",
    "V tradičných učebniciach môžete byť zvyknutí na to, že v nej nie sú chyby. Tento zvyk považujú v Ystotne za mierne škodlivý. Na jednej strane je síce pekné oprieť sa o poznatky o ktorých vieme, že sú správne. Dodáva nám to istý komfort. Na druhej strane ale čitateľ často skĺzne do toho, že text slepo číta a nezamýšľa sa nad ním. Tomuto sa v Ystotne vyhýbajú tým, že vo svojich textoch majú občas schválne chyby. Keďže tento text je o zápiskoch Yzidora z Ystotny, môžete v ňom tiež očakávať chyby.\n",
    "```\n",
    "\n",
    "Malý Ýzy vypočítal úlohu, ktorú si sám zadal a niečo sa nové naučil. Trocha málo sa naučil matematiky a programovania, trocha viac ohľadom vlastných chýb. Odpoveď mu ukázala, že po šiestich hodoch šestkov je iba $66\\%$ pravdepodobnosť na to, že padne aspoň jedna šestka. To je výrazne menej, ako bolo jeho pôvodných $100%$.\n",
    "\n",
    "```{admonition} Úloha\n",
    ":class: tip\n",
    "Koľkokrát by musel malý Ýzy hodiť kockou, aby mu padla na $100\\%$?\n",
    "```"
   ]
  }
 ],
 "metadata": {
  "jupytext": {
   "text_representation": {
    "format_name": "myst"
   }
  },
  "kernelspec": {
   "display_name": "Python 3",
   "name": "python3"
  },
  "language_info": {
   "codemirror_mode": {
    "name": "ipython",
    "version": 3
   },
   "file_extension": ".py",
   "mimetype": "text/x-python",
   "name": "python",
   "nbconvert_exporter": "python",
   "pygments_lexer": "ipython3",
   "version": "3.6.9"
  },
  "source_map": [
   8,
   14,
   29,
   32,
   34,
   37,
   46
  ]
 },
 "nbformat": 4,
 "nbformat_minor": 4
}