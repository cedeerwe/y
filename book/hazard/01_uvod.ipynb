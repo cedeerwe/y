{
 "cells": [
  {
   "cell_type": "markdown",
   "metadata": {},
   "source": [
    "# Yzidor\n",
    "\n",
    "Yzidor sa vydal na dlhú púť do Hazardova, ako už bolo tradičné pre obyvateľov jeho rodného kraja Ystotno. Ľudia v Ystotne si dávali záležať, aby každý vedel dobre pracovať s neistotou, keďže tá nás sprevádza v rámci každej chvíle našich životov. Preto pri dovŕšení 15-teho roku života boli všetci mladí junáci a junáčky poslané na miesto, kde sa o neistote dá naučiť najviac - do Hazardova. Ako už názov mesta napovedá, Hazardov je preslávený tým, že stávkovanie, kocky a karty sú takou bežnou súčasťou života, ako je pre normálneho človeka dýchanie.  \n",
    "\n",
    "Yzidor sa na tento moment svojho života tešil, odkedy bol ešte len malý Ýzy. Jeho dedo Yvan hovorieval: \"*Môžeš študovať koľko len chceš, ale kým si na vlastnej koži neucítiš hazardovanie, neistotu nikdy nepochopíš*\". Malý Ýzy sa snažil hazard zažiť aj v Ystotne, ale všetci boli príliš skúsený v neistote, aby chceli jednoducho hazardovať. Na to sa človek musel vybrať priamo do Hazardova, kde sa takýmto typom ľudí hemžili ulice.\n",
    "\n",
    "Aj keď bol Yzidor plný adrenalínu a nadšenia, mal aj trocha strach. Čo ak to nezvládne? Čo ak prehrá? Čo ak nebude vedieť skrotiť neistotu? Má vôbec šancu oproti najskúsenejším hazardérom celého sveta? Takéto myšlienky si našťastie vždy zavrhol skôr, ako by spôsobili obtiaže. Na túto chvíľu sa pripravoval celý svoj život. Stres, adrenalín a neistotu porazí najsilnejšími nástrojmi sveta - kritickým uvažovaním a analýzou. Ako hovorievala jeho babka Ingrid: \"*Hazard je plný švindľov, trikov a klamov, s chladnou hlavou ho ale vždy porazíme*\". \n",
    "\n",
    "Dedo Yvan a babka Yngrid hrali vo vývoji malého Ýzyho dôležitú rolu, ako to už bývalo zvykom v celom Ystotne. Pýtali sa ho veľa otázok, ale dávali málo odpovedí. Vždy mu nechali dostatok času na rozmyslenie, pretože tak sa človek najlepšie učí. Ak sa niekedy zasekol a otázka preňho bola príliš náročná, namiesto prezradenia odpovedi mu začali klásť jednoduchšie otázky. Na tieto otázky už malý Ýzy odpovedať vedel a z týchto odpovedí si dokázal uvedomiť aj odpoveď na tú ťažkú otázku. Nebolo to s nimi vždy ľahké, ale spätne si uvedomuje, že to preňho bolo skvelé. \n",
    "\n",
    "Rád spomína na ten čas, keď si po dobu štyroch mesiacov myslel, že ak hodí kockou šesťkrát, padne mu z každého čísla práve jedno. Dedo Yvan a babka Yngrid mu na to nič nepovedali! Celé štyri mesiace žil v omyle o fungovaní sveta. Moment jeho konečného uvedomenia svojho omylu bol ale úžasný. Hádzal si tak kockou, hodil postupne 1, 5, 3, 6, 4, 2... A v tom sa zastavil. Svet síce funguje tak, ako si myslel - každý výsledok mu padol práve raz - ale čo sa stane, ak hodí ešte raz? Veď už nemôže nič padnúť, všetko sa už minulo. Opatrne hodil kockou siedmy krát a padla znova dvojka. Hodil znova a padla ešte jedna. Celý zvyšok dňa potom hádzal kockou a snažil sa pochopiť, ako to v skutočnosti funguje. Bol to skvelý deň. Keď napokon prišiel malý Ýzy za dedom Yvanom a babkou Yngrid, videl úsmev na ich tvári. Chcel na nich nakričať, že prečo mu nepovedali, že sa mýlil. Ale oni sa len usmievali a on sa usmieval tiež. Keby mu to povedali, pravdepodobne by prikývol, ale až tak by im neveril. Keď si to vyskúšal sám, je teraz absolútne presvedčený o tom, že sa mýlil.\n",
    "\n",
    "```{admonition} Úloha\n",
    ":class: tip\n",
    "Ako to teda je s tou kockou? K čomu prišiel malý Ýzy? Ak mi teda šestka nepadne zaručene, keď hodím kockou šesťkrát, aká je šanca, že mi zo šiestich hodov aspoň jedna skutočne padne?\n",
    "```\n",
    "```{admonition} Ďalšia strana\n",
    "Naše stránky sa nikdy nekončia preto, lebo chceme oddeliť nejakú kapitolu alebo časť. Naše stránky sa končia preto, lebo vám dávame priestor na zamyslenie sa nad otázkou alebo problémom. Z tohto hľadiska sa na tieto materiály nepozerajte ako na knihu, ale skôr ako na pracovný zošit. Vašim cieľom by nemalo byť si knihu čo najrýchlejšie prejsť, ale stráviť **medzi stránkami** čo najviac času. Čítaním získate omnoho menej, ako získate vlastným objavovaním a rozmýšľaním. Na ďalšiu stránku teda otočte až keď budete mať dobre rozmyslenú predchádzajúcu úlohu. \n",
    "```"
   ]
  }
 ],
 "metadata": {},
 "nbformat": 4,
 "nbformat_minor": 4
}
