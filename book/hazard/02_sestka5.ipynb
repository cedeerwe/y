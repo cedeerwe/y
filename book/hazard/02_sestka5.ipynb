{
 "cells": [
  {
   "cell_type": "markdown",
   "metadata": {},
   "source": [
    "# Šestka v šiestich V.\n",
    "\n",
    "Malý Ýzy sa nad touto otázkou chvíľu zamýšľal, ale rýchlo dosšiel k riešeniu, že hocikoľkokrát by hodil, nikdy by nemal 100% istotu na to, že mu padne šestka. Takže toto tiež nie je tá správna otázka, ktorá ho zaujíma.\n",
    "\n",
    "```{admonition} Úloha\n",
    ":class: tip\n",
    "Akú otázku sa chce malý Ýzy sám seba v skutočnosti spýtať? Aká je na ňu odpoveď?\n",
    "```"
   ]
  }
 ],
 "metadata": {},
 "nbformat": 4,
 "nbformat_minor": 4
}
