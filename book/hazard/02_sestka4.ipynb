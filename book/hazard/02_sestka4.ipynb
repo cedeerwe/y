{
 "cells": [
  {
   "cell_type": "markdown",
   "metadata": {},
   "source": [
    "# Šestka v šiestich IV.\n",
    "\n",
    "Ýzyho testy vyzerajú takto:"
   ]
  },
  {
   "cell_type": "code",
   "execution_count": null,
   "metadata": {
    "tags": [
     "raises-exception"
    ]
   },
   "outputs": [],
   "source": [
    "from random import randint # sprístupníme si funkciu na vygenerovanie náhodných celých čísel\n",
    "\n",
    "def hod_kockou(): # zadefinujeme si vlastnú funkciu \"hod_kockou\" \n",
    "    return randint(1, 7) # vygenerujeme celé číslo medzi 1 (vrátane) a 7 (nevrátane)\n",
    "\n",
    "# testy\n",
    "def otestuj_hod_kockou(N):\n",
    "    for i in range(N):\n",
    "        assert(hod_kockou() in [1,2,3,4,5,6])\n",
    "\n",
    "# spustenie testu\n",
    "otestuj_hod_kockou(10000)"
   ]
  },
  {
   "cell_type": "markdown",
   "metadata": {},
   "source": [
    "A sme našli našu chybu. Očividne generujeme niečo iné, ako výsledky hodov kockou. Keď sa pozrieme na dokumentáciu funkcie `randint`, zistíme nasledovné."
   ]
  },
  {
   "cell_type": "code",
   "execution_count": null,
   "metadata": {},
   "outputs": [],
   "source": [
    "help(randint)"
   ]
  },
  {
   "cell_type": "markdown",
   "metadata": {},
   "source": [
    "Takže je to celé jasné. Ýzy spravil chybu v simulácií v tom, že si zle prečítal a vyskúšal dokumentáciu, pretože oba koncové body sú zahrnuté. Opravený Ýzyho kód simulácie teda vyzerá takto:"
   ]
  },
  {
   "cell_type": "code",
   "execution_count": null,
   "metadata": {},
   "outputs": [],
   "source": [
    "def hod_kockou_spravne(): \n",
    "    return randint(1, 6) \n",
    "\n",
    "def sestka_v_siestich_hodoch():\n",
    "    return any(hod_kockou_spravne() == 6 for i in range(6))\n",
    "\n",
    "pocet_pokusov = 1000000\n",
    "sum(sestka_v_siestich_hodoch() for i in range(pocet_pokusov)) / pocet_pokusov "
   ]
  },
  {
   "cell_type": "markdown",
   "metadata": {},
   "source": [
    "Tento výsledok sa zhoduje s výsledkom matematických výpočtov. Ýzy teda konečne prišiel spokojný k záveru, že sa mu úlohu podarilo vyriešiť. \n",
    "\n",
    "Samotný výsledok Ýzyho až tak nezaujal. Veď ani pôvodný príklad nebol v skutočnosti až taký zaujímavý. Omnoho zaujimavejší preňho bol proces, ako sa k výsledku dostal. V prvom výsledku mal až dve chyby, ktoré si postupne sám zvládol nájsť tým, že sa snažil k riešeniu dostať rôznymi spôsobmi. Ako hovorieval dedo Yvan: \"*Keby ti vždy musel niekto skontrolovať správnosť tvojich výsledkov, tvoja práca je polo-zbytočná.*\". V duchu tejto filozofie sa odvtedy malý Ýzy vždy vytešoval z toho, keď sa mu podarilo nájsť si vlastnú chybu. Stával sa tým nezávislejším a z pohľadu svojho deda menej zbytočným.\n",
    "\n",
    "```{admonition} Poznámka o chybách\n",
    "V tradičných učebniciach môžete byť zvyknutí na to, že v nej nie sú chyby. Tento zvyk považujú v Ystotne za mierne škodlivý. Na jednej strane je síce pekné oprieť sa o poznatky o ktorých vieme, že sú správne. Dodáva nám to istý komfort. Na druhej strane ale čitateľ často skĺzne do toho, že text slepo číta a nezamýšľa sa nad ním. Tomuto sa v Ystotne vyhýbajú tým, že vo svojich textoch majú občas schválne chyby. Keďže tento text je o zápiskoch Yzidora z Ystotny, môžete v ňom tiež očakávať chyby.\n",
    "```\n",
    "\n",
    "Malý Ýzy vypočítal úlohu, ktorú si sám zadal a niečo sa nové naučil. Trocha málo sa naučil matematiky a programovania, trocha viac ohľadom vlastných chýb. Odpoveď mu ukázala, že po šiestich hodoch šestkov je iba $66\\%$ pravdepodobnosť na to, že padne aspoň jedna šestka. To je výrazne menej, ako bolo jeho pôvodných $100%$.\n",
    "\n",
    "```{admonition} Úloha\n",
    ":class: tip\n",
    "Koľkokrát by musel malý Ýzy hodiť kockou, aby mu padla na $100\\%$?\n",
    "```"
   ]
  }
 ],
 "metadata": {
  "kernelspec": {
   "display_name": "Python 3",
   "name": "python3"
  }
 },
 "nbformat": 4,
 "nbformat_minor": 4
}
