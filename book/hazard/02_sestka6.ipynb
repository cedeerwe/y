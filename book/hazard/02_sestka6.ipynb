{
 "cells": [
  {
   "cell_type": "markdown",
   "metadata": {},
   "source": [
    "# Šestka v šiestich VI.\n",
    "\n",
    "Malého Ýzyho napadli rovno dve úlohy, ktoré ho zaujali.\n",
    "\n",
    "```{admonition} Úloha\n",
    ":class: tip\n",
    "- Koľkokrát musí hodiť kockou, aby mal aspoň $99.9\\%$ šancu na to, že mu padne hlava? A čo tak všeobecne šancu aspoň $\\alpha$?\n",
    "- Na koľkatý hod mu v priemere padne šestka?\n",
    "```"
   ]
  }
 ],
 "metadata": {},
 "nbformat": 4,
 "nbformat_minor": 4
}
